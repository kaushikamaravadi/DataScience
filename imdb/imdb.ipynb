{
 "cells": [
  {
   "cell_type": "code",
   "execution_count": 1,
   "metadata": {
    "collapsed": true
   },
   "outputs": [],
   "source": [
    "import pandas as pd\n",
    "from pandas import Series,DataFrame\n",
    "import numpy as np\n",
    "\n",
    "import matplotlib.pyplot as plt\n",
    "import seaborn as sns\n",
    "sns.set_style('whitegrid')\n",
    "%matplotlib inline"
   ]
  },
  {
   "cell_type": "code",
   "execution_count": 2,
   "metadata": {
    "collapsed": false
   },
   "outputs": [
    {
     "name": "stdout",
     "output_type": "stream",
     "text": [
      "/home/ubuntu\n"
     ]
    }
   ],
   "source": [
    "%cd /home/ubuntu"
   ]
  },
  {
   "cell_type": "code",
   "execution_count": 5,
   "metadata": {
    "collapsed": true
   },
   "outputs": [],
   "source": [
    "imdb = pd.read_json('imdb.json')"
   ]
  },
  {
   "cell_type": "code",
   "execution_count": 6,
   "metadata": {
    "collapsed": false
   },
   "outputs": [
    {
     "data": {
      "text/html": [
       "<div>\n",
       "<table border=\"1\" class=\"dataframe\">\n",
       "  <thead>\n",
       "    <tr style=\"text-align: right;\">\n",
       "      <th></th>\n",
       "      <th>Aspect_Ratio</th>\n",
       "      <th>Color</th>\n",
       "      <th>Gross</th>\n",
       "      <th>Language</th>\n",
       "      <th>Opening</th>\n",
       "      <th>Release_Date</th>\n",
       "      <th>Runtime</th>\n",
       "      <th>Sound</th>\n",
       "      <th>country</th>\n",
       "      <th>director</th>\n",
       "      <th>genre</th>\n",
       "      <th>plot_keywords</th>\n",
       "      <th>rating</th>\n",
       "      <th>stars</th>\n",
       "      <th>summary</th>\n",
       "      <th>title</th>\n",
       "      <th>writers</th>\n",
       "    </tr>\n",
       "  </thead>\n",
       "  <tbody>\n",
       "    <tr>\n",
       "      <th>0</th>\n",
       "      <td>1.85 : 1</td>\n",
       "      <td>Color</td>\n",
       "      <td>$623,279,547(USA)(</td>\n",
       "      <td>English|Russian</td>\n",
       "      <td>$207,438,708(USA</td>\n",
       "      <td>4 May 2012</td>\n",
       "      <td>143 min|173 min(extended cut)</td>\n",
       "      <td>Datasat| Dolby Digital| Dolby Surround 7.1</td>\n",
       "      <td>USA</td>\n",
       "      <td>Joss Whedon</td>\n",
       "      <td>Action | Sci-Fi</td>\n",
       "      <td>soldier|assassin|alieninvasion|battle|superhero</td>\n",
       "      <td>8.1/10</td>\n",
       "      <td>[Robert Downey Jr., Chris Evans, Scarlett Joha...</td>\n",
       "      <td>[Earth's mightiest heroes must come together a...</td>\n",
       "      <td>The Avengers</td>\n",
       "      <td>[Joss Whedon, Zak Penn]</td>\n",
       "    </tr>\n",
       "    <tr>\n",
       "      <th>1</th>\n",
       "      <td>2.35 : 1</td>\n",
       "      <td>Color</td>\n",
       "      <td>$458,991,599(USA)</td>\n",
       "      <td>English</td>\n",
       "      <td>$191,271,109(USA</td>\n",
       "      <td>1 May 2015</td>\n",
       "      <td>141 min</td>\n",
       "      <td>Dolby Atmos| Dolby Digital| Dolby Surround 7.1...</td>\n",
       "      <td>USA</td>\n",
       "      <td>Joss Whedon</td>\n",
       "      <td>Action | Adventure | Sci-Fi</td>\n",
       "      <td>superhero|marvelcinematicuniverse|basedoncomic...</td>\n",
       "      <td>7.4/10</td>\n",
       "      <td>[Robert Downey Jr., Chris Evans, Mark Ruffalo]</td>\n",
       "      <td>[When Tony Stark and Bruce Banner try to jump-...</td>\n",
       "      <td>Avengers: Age of Ultron</td>\n",
       "      <td>[Joss Whedon, Stan Lee]</td>\n",
       "    </tr>\n",
       "    <tr>\n",
       "      <th>2</th>\n",
       "      <td>2.35 : 1</td>\n",
       "      <td>Color</td>\n",
       "      <td>$408,080,554(USA)(</td>\n",
       "      <td>English|German|Xhosa|Russian|Romanian|Hindi</td>\n",
       "      <td>$179,139,142(USA</td>\n",
       "      <td>6 May 2016</td>\n",
       "      <td>147 min</td>\n",
       "      <td>Dolby Atmos| 12-Track Digital Sound(IMAX 12 tr...</td>\n",
       "      <td>USA</td>\n",
       "      <td>Anthony Russo</td>\n",
       "      <td>Action | Adventure | Sci-Fi</td>\n",
       "      <td>marvelcinematicuniverse|basedoncomicbook|super...</td>\n",
       "      <td>7.9/10</td>\n",
       "      <td>[Stephen McFeely, Chris Evans, Robert Downey J...</td>\n",
       "      <td>[Political interference in the Avengers' activ...</td>\n",
       "      <td>Captain America: Civil War</td>\n",
       "      <td>[Joe Russo, Christopher Markus]</td>\n",
       "    </tr>\n",
       "    <tr>\n",
       "      <th>3</th>\n",
       "      <td>1.85 : 1</td>\n",
       "      <td>Color</td>\n",
       "      <td>$180,191,634(USA)(</td>\n",
       "      <td>English</td>\n",
       "      <td>$57,225,526(USA)(</td>\n",
       "      <td>17 July 2015</td>\n",
       "      <td>117 min</td>\n",
       "      <td>Datasat| Dolby Digital| SDDS| Dolby Atmos</td>\n",
       "      <td>USA</td>\n",
       "      <td>Peyton Reed</td>\n",
       "      <td>Action | Adventure | Comedy | Sci-Fi</td>\n",
       "      <td>heist|sabotage|shrinking|vault|ant</td>\n",
       "      <td>7.3/10</td>\n",
       "      <td>[Paul Rudd, Michael Douglas, Corey Stoll]</td>\n",
       "      <td>[Armed with a super-suit with the astonishing ...</td>\n",
       "      <td>Ant-Man</td>\n",
       "      <td>[Edgar Wright, Joe Cornish]</td>\n",
       "    </tr>\n",
       "    <tr>\n",
       "      <th>4</th>\n",
       "      <td>2.35 : 1</td>\n",
       "      <td>Color</td>\n",
       "      <td>$233,914,986(USA)</td>\n",
       "      <td>English|Vietnamese|French</td>\n",
       "      <td>$111,000,000(USA)</td>\n",
       "      <td>23 May 2014</td>\n",
       "      <td>132 min|151 min(The Rogue Cut)</td>\n",
       "      <td>Dolby| Dolby Atmos| Datasat</td>\n",
       "      <td>USA|UK|Canada</td>\n",
       "      <td>Bryan Singer</td>\n",
       "      <td>Action | Adventure | Sci-Fi | Thriller</td>\n",
       "      <td>timetravel|supernaturalpower|superstrength|tim...</td>\n",
       "      <td>8.0/10</td>\n",
       "      <td>[Patrick Stewart, Ian McKellen, Hugh Jackman]</td>\n",
       "      <td>[The X-Men send Wolverine to the past in a des...</td>\n",
       "      <td>X-Men: Days of Future Past</td>\n",
       "      <td>[Simon Kinberg, Jane Goldman]</td>\n",
       "    </tr>\n",
       "  </tbody>\n",
       "</table>\n",
       "</div>"
      ],
      "text/plain": [
       "  Aspect_Ratio  Color               Gross  \\\n",
       "0     1.85 : 1  Color  $623,279,547(USA)(   \n",
       "1     2.35 : 1  Color   $458,991,599(USA)   \n",
       "2     2.35 : 1  Color  $408,080,554(USA)(   \n",
       "3     1.85 : 1  Color  $180,191,634(USA)(   \n",
       "4     2.35 : 1  Color   $233,914,986(USA)   \n",
       "\n",
       "                                      Language            Opening  \\\n",
       "0                              English|Russian   $207,438,708(USA   \n",
       "1                                      English   $191,271,109(USA   \n",
       "2  English|German|Xhosa|Russian|Romanian|Hindi   $179,139,142(USA   \n",
       "3                                      English  $57,225,526(USA)(   \n",
       "4                    English|Vietnamese|French  $111,000,000(USA)   \n",
       "\n",
       "   Release_Date                         Runtime  \\\n",
       "0    4 May 2012   143 min|173 min(extended cut)   \n",
       "1    1 May 2015                         141 min   \n",
       "2    6 May 2016                         147 min   \n",
       "3  17 July 2015                         117 min   \n",
       "4   23 May 2014  132 min|151 min(The Rogue Cut)   \n",
       "\n",
       "                                               Sound        country  \\\n",
       "0         Datasat| Dolby Digital| Dolby Surround 7.1            USA   \n",
       "1  Dolby Atmos| Dolby Digital| Dolby Surround 7.1...            USA   \n",
       "2  Dolby Atmos| 12-Track Digital Sound(IMAX 12 tr...            USA   \n",
       "3          Datasat| Dolby Digital| SDDS| Dolby Atmos            USA   \n",
       "4                        Dolby| Dolby Atmos| Datasat  USA|UK|Canada   \n",
       "\n",
       "        director                                   genre  \\\n",
       "0    Joss Whedon                         Action | Sci-Fi   \n",
       "1    Joss Whedon             Action | Adventure | Sci-Fi   \n",
       "2  Anthony Russo             Action | Adventure | Sci-Fi   \n",
       "3    Peyton Reed    Action | Adventure | Comedy | Sci-Fi   \n",
       "4   Bryan Singer  Action | Adventure | Sci-Fi | Thriller   \n",
       "\n",
       "                                       plot_keywords  rating  \\\n",
       "0    soldier|assassin|alieninvasion|battle|superhero  8.1/10   \n",
       "1  superhero|marvelcinematicuniverse|basedoncomic...  7.4/10   \n",
       "2  marvelcinematicuniverse|basedoncomicbook|super...  7.9/10   \n",
       "3                 heist|sabotage|shrinking|vault|ant  7.3/10   \n",
       "4  timetravel|supernaturalpower|superstrength|tim...  8.0/10   \n",
       "\n",
       "                                               stars  \\\n",
       "0  [Robert Downey Jr., Chris Evans, Scarlett Joha...   \n",
       "1     [Robert Downey Jr., Chris Evans, Mark Ruffalo]   \n",
       "2  [Stephen McFeely, Chris Evans, Robert Downey J...   \n",
       "3          [Paul Rudd, Michael Douglas, Corey Stoll]   \n",
       "4      [Patrick Stewart, Ian McKellen, Hugh Jackman]   \n",
       "\n",
       "                                             summary  \\\n",
       "0  [Earth's mightiest heroes must come together a...   \n",
       "1  [When Tony Stark and Bruce Banner try to jump-...   \n",
       "2  [Political interference in the Avengers' activ...   \n",
       "3  [Armed with a super-suit with the astonishing ...   \n",
       "4  [The X-Men send Wolverine to the past in a des...   \n",
       "\n",
       "                         title                          writers  \n",
       "0                The Avengers           [Joss Whedon, Zak Penn]  \n",
       "1     Avengers: Age of Ultron           [Joss Whedon, Stan Lee]  \n",
       "2  Captain America: Civil War   [Joe Russo, Christopher Markus]  \n",
       "3                     Ant-Man       [Edgar Wright, Joe Cornish]  \n",
       "4  X-Men: Days of Future Past     [Simon Kinberg, Jane Goldman]  "
      ]
     },
     "execution_count": 6,
     "metadata": {},
     "output_type": "execute_result"
    }
   ],
   "source": [
    "imdb.head(5)"
   ]
  },
  {
   "cell_type": "code",
   "execution_count": 14,
   "metadata": {
    "collapsed": false
   },
   "outputs": [],
   "source": [
    "gross = pd.DataFrame(imdb['Gross'])"
   ]
  },
  {
   "cell_type": "code",
   "execution_count": 16,
   "metadata": {
    "collapsed": false
   },
   "outputs": [
    {
     "data": {
      "text/html": [
       "<div>\n",
       "<table border=\"1\" class=\"dataframe\">\n",
       "  <thead>\n",
       "    <tr style=\"text-align: right;\">\n",
       "      <th></th>\n",
       "      <th>Gross</th>\n",
       "    </tr>\n",
       "  </thead>\n",
       "  <tbody>\n",
       "    <tr>\n",
       "      <th>0</th>\n",
       "      <td>$623,279,547(USA)(</td>\n",
       "    </tr>\n",
       "    <tr>\n",
       "      <th>1</th>\n",
       "      <td>$458,991,599(USA)</td>\n",
       "    </tr>\n",
       "    <tr>\n",
       "      <th>2</th>\n",
       "      <td>$408,080,554(USA)(</td>\n",
       "    </tr>\n",
       "    <tr>\n",
       "      <th>3</th>\n",
       "      <td>$180,191,634(USA)(</td>\n",
       "    </tr>\n",
       "    <tr>\n",
       "      <th>4</th>\n",
       "      <td>$233,914,986(USA)</td>\n",
       "    </tr>\n",
       "  </tbody>\n",
       "</table>\n",
       "</div>"
      ],
      "text/plain": [
       "                Gross\n",
       "0  $623,279,547(USA)(\n",
       "1   $458,991,599(USA)\n",
       "2  $408,080,554(USA)(\n",
       "3  $180,191,634(USA)(\n",
       "4   $233,914,986(USA)"
      ]
     },
     "execution_count": 16,
     "metadata": {},
     "output_type": "execute_result"
    }
   ],
   "source": [
    "gross"
   ]
  },
  {
   "cell_type": "code",
   "execution_count": 18,
   "metadata": {
    "collapsed": false
   },
   "outputs": [],
   "source": [
    "import json"
   ]
  },
  {
   "cell_type": "code",
   "execution_count": 20,
   "metadata": {
    "collapsed": false
   },
   "outputs": [
    {
     "data": {
      "text/plain": [
       "'\"imdb.json\"'"
      ]
     },
     "execution_count": 20,
     "metadata": {},
     "output_type": "execute_result"
    }
   ],
   "source": []
  },
  {
   "cell_type": "code",
   "execution_count": null,
   "metadata": {
    "collapsed": true
   },
   "outputs": [],
   "source": []
  }
 ],
 "metadata": {
  "kernelspec": {
   "display_name": "Python 3",
   "language": "python",
   "name": "python3"
  },
  "language_info": {
   "codemirror_mode": {
    "name": "ipython",
    "version": 3
   },
   "file_extension": ".py",
   "mimetype": "text/x-python",
   "name": "python",
   "nbconvert_exporter": "python",
   "pygments_lexer": "ipython3",
   "version": "3.6.0"
  }
 },
 "nbformat": 4,
 "nbformat_minor": 2
}
